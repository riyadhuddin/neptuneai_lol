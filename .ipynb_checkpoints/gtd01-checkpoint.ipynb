version https://git-lfs.github.com/spec/v1
oid sha256:d20e53f809e8683122eef28ae231067a517caf46702c8ae4bce16bc229ede4ac
size 2270
