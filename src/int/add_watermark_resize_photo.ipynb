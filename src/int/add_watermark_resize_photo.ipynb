version https://git-lfs.github.com/spec/v1
oid sha256:d26d55d899b6773ba546afe0d69ae196f65bb64c4809986f690f3952450aba0e
size 17854
